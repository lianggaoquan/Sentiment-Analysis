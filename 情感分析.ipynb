{
 "cells": [
  {
   "cell_type": "code",
   "execution_count": 1,
   "metadata": {},
   "outputs": [
    {
     "name": "stderr",
     "output_type": "stream",
     "text": [
      "Using TensorFlow backend.\n"
     ]
    }
   ],
   "source": [
    "from numpy import array\n",
    "from keras.preprocessing.text import one_hot\n",
    "from keras.preprocessing.sequence import pad_sequences\n",
    "from keras.models import Sequential\n",
    "from keras.layers import Dense\n",
    "from keras.layers import Flatten\n",
    "from keras.layers.embeddings import Embedding\n",
    "import numpy as np"
   ]
  },
  {
   "cell_type": "code",
   "execution_count": 2,
   "metadata": {},
   "outputs": [
    {
     "name": "stdout",
     "output_type": "stream",
     "text": [
      "<class 'str'>\n"
     ]
    }
   ],
   "source": [
    "pos_doc = open(\"D:/数据/sentiment/rt-polarity-pos.txt\",\"r\",encoding='utf8',errors='replace').read()\n",
    "neg_doc = open(\"D:/数据/sentiment/rt-polarity-neg.txt\",\"r\",encoding='utf8',errors='replace').read()\n",
    "\n",
    "print(type(pos_doc))"
   ]
  },
  {
   "cell_type": "code",
   "execution_count": 3,
   "metadata": {},
   "outputs": [],
   "source": [
    "x_pos = []\n",
    "x_neg = []\n",
    "\n",
    "for p in pos_doc.split('\\n'):\n",
    "    x_pos.append(p)\n",
    "\n",
    "for n in neg_doc.split('\\n'):\n",
    "    x_neg.append(n)"
   ]
  },
  {
   "cell_type": "code",
   "execution_count": 4,
   "metadata": {},
   "outputs": [],
   "source": [
    "y_pos = []\n",
    "y_neg = []\n",
    "\n",
    "for i in range(len(x_pos)):\n",
    "    y_pos.append(1)\n",
    "\n",
    "for j in range(len(x_neg)):\n",
    "    y_neg.append(0)\n",
    "\n",
    "pos = zip(x_pos,y_pos)\n",
    "neg = zip(x_neg,y_neg)"
   ]
  },
  {
   "cell_type": "code",
   "execution_count": 5,
   "metadata": {},
   "outputs": [
    {
     "name": "stdout",
     "output_type": "stream",
     "text": [
      "('the rock is destined to be the 21st century\\'s new \" conan \" and that he\\'s going to make a splash even greater than arnold schwarzenegger , jean-claud van damme or steven segal . ', 1)\n"
     ]
    }
   ],
   "source": [
    "pos = list(pos)\n",
    "neg = list(neg)\n",
    "print(pos[0])"
   ]
  },
  {
   "cell_type": "code",
   "execution_count": 6,
   "metadata": {
    "scrolled": true
   },
   "outputs": [
    {
     "name": "stdout",
     "output_type": "stream",
     "text": [
      "5332\n",
      "10664\n"
     ]
    }
   ],
   "source": [
    "data = []\n",
    "for p in pos:\n",
    "    data.append(p)\n",
    "for n in neg:\n",
    "    data.append(n)\n",
    "\n",
    "np.random.shuffle(data)\n",
    "print(len(pos))\n",
    "print(len(data))"
   ]
  },
  {
   "cell_type": "code",
   "execution_count": 7,
   "metadata": {},
   "outputs": [],
   "source": [
    "from keras.preprocessing.text import Tokenizer"
   ]
  },
  {
   "cell_type": "code",
   "execution_count": 8,
   "metadata": {},
   "outputs": [
    {
     "name": "stdout",
     "output_type": "stream",
     "text": [
      "19489\n",
      "[2324, 6823, 9593, 18957, 13668, 13401, 6171, 7624, 15052, 13668, 1394, 16649, 2330, 4145, 9701, 9593, 17771, 9593, 4698, 9086, 11005, 9369, 12824, 11858]\n",
      "---\n",
      "it's rare to see a movie that takes such a speedy swan dive from \" promising \" to \" interesting \" to \" familiar \" before landing squarely on \" stupid \" . \n"
     ]
    }
   ],
   "source": [
    "encoded_docs = []\n",
    "tokenizer = Tokenizer(num_words=None)\n",
    "tokenizer.fit_on_texts(x_pos + x_neg)\n",
    "vocab_size = max(tokenizer.word_index.values())\n",
    "print(vocab_size)\n",
    "\n",
    "for i in range(len(data)):\n",
    "    encoded_docs.append(one_hot(data[i][0],vocab_size))\n",
    "print(encoded_docs[0])\n",
    "print(\"---\")\n",
    "print(data[0][0])"
   ]
  },
  {
   "cell_type": "code",
   "execution_count": 9,
   "metadata": {},
   "outputs": [
    {
     "data": {
      "text/plain": [
       "51"
      ]
     },
     "execution_count": 9,
     "metadata": {},
     "output_type": "execute_result"
    }
   ],
   "source": [
    "max_len = max([len(encoded_docs[i]) for i in range(len(encoded_docs))])\n",
    "max_len"
   ]
  },
  {
   "cell_type": "code",
   "execution_count": 10,
   "metadata": {},
   "outputs": [
    {
     "name": "stdout",
     "output_type": "stream",
     "text": [
      "[ 2324  6823  9593 18957 13668 13401  6171  7624 15052 13668  1394 16649\n",
      "  2330  4145  9701  9593 17771  9593  4698  9086 11005  9369 12824 11858\n",
      "     0     0     0     0     0     0     0     0     0     0     0     0\n",
      "     0     0     0     0     0     0     0     0     0     0     0     0\n",
      "     0     0     0]\n"
     ]
    }
   ],
   "source": [
    "padded_docs = pad_sequences(encoded_docs,maxlen=max_len,padding='post')\n",
    "print(padded_docs[0])"
   ]
  },
  {
   "cell_type": "code",
   "execution_count": 11,
   "metadata": {},
   "outputs": [
    {
     "data": {
      "text/plain": [
       "[0, 0, 1, 1, 0, 0, 0, 0, 0, 0]"
      ]
     },
     "execution_count": 11,
     "metadata": {},
     "output_type": "execute_result"
    }
   ],
   "source": [
    "y = [data[i][1] for i in range(len(data))]\n",
    "y[:10]"
   ]
  },
  {
   "cell_type": "code",
   "execution_count": 12,
   "metadata": {},
   "outputs": [],
   "source": [
    "train_size = int(0.87*len(padded_docs))\n",
    "X_train = padded_docs[:train_size]\n",
    "X_test = padded_docs[train_size:]\n",
    "y_train = y[:train_size]\n",
    "y_test = y[train_size:]"
   ]
  },
  {
   "cell_type": "markdown",
   "metadata": {},
   "source": [
    "## define the model"
   ]
  },
  {
   "cell_type": "code",
   "execution_count": 13,
   "metadata": {},
   "outputs": [],
   "source": [
    "from keras.layers import LSTM,Dropout\n",
    "from keras.optimizers import Adam"
   ]
  },
  {
   "cell_type": "code",
   "execution_count": 14,
   "metadata": {},
   "outputs": [],
   "source": [
    "model = Sequential()\n",
    "model.add(Embedding(vocab_size, 128, input_length=max_len))\n",
    "model.add(Flatten())\n",
    "model.add(Dense(256,activation='relu'))\n",
    "model.add(Dense(128,activation='relu'))\n",
    "model.add(Dense(1, activation='sigmoid'))\n",
    "adam = Adam(lr=0.02)\n",
    "model.compile(optimizer=adam,loss='binary_crossentropy',metrics=['accuracy'])"
   ]
  },
  {
   "cell_type": "code",
   "execution_count": 15,
   "metadata": {},
   "outputs": [
    {
     "name": "stdout",
     "output_type": "stream",
     "text": [
      "_________________________________________________________________\n",
      "Layer (type)                 Output Shape              Param #   \n",
      "=================================================================\n",
      "embedding_1 (Embedding)      (None, 51, 128)           2494592   \n",
      "_________________________________________________________________\n",
      "flatten_1 (Flatten)          (None, 6528)              0         \n",
      "_________________________________________________________________\n",
      "dense_1 (Dense)              (None, 256)               1671424   \n",
      "_________________________________________________________________\n",
      "dense_2 (Dense)              (None, 128)               32896     \n",
      "_________________________________________________________________\n",
      "dense_3 (Dense)              (None, 1)                 129       \n",
      "=================================================================\n",
      "Total params: 4,199,041\n",
      "Trainable params: 4,199,041\n",
      "Non-trainable params: 0\n",
      "_________________________________________________________________\n"
     ]
    }
   ],
   "source": [
    "model.summary()"
   ]
  },
  {
   "cell_type": "code",
   "execution_count": 16,
   "metadata": {},
   "outputs": [
    {
     "name": "stdout",
     "output_type": "stream",
     "text": [
      "1387/1387 [==============================] - 0s 298us/step\n"
     ]
    },
    {
     "data": {
      "text/plain": [
       "[0.6936749210440176, 0.4931506850174544]"
      ]
     },
     "execution_count": 16,
     "metadata": {},
     "output_type": "execute_result"
    }
   ],
   "source": [
    "model.evaluate(X_test,y_test)"
   ]
  },
  {
   "cell_type": "code",
   "execution_count": 17,
   "metadata": {},
   "outputs": [
    {
     "name": "stdout",
     "output_type": "stream",
     "text": [
      "Epoch 1/10\n",
      "9277/9277 [==============================] - 6s 683us/step - loss: 1.0362 - acc: 0.5659\n",
      "Epoch 2/10\n",
      "9277/9277 [==============================] - 6s 625us/step - loss: 0.3059 - acc: 0.8699\n",
      "Epoch 3/10\n",
      "9277/9277 [==============================] - 6s 659us/step - loss: 0.0536 - acc: 0.9819\n",
      "Epoch 4/10\n",
      "9277/9277 [==============================] - 6s 700us/step - loss: 0.0114 - acc: 0.9964\n",
      "Epoch 5/10\n",
      "9277/9277 [==============================] - 7s 712us/step - loss: 0.0048 - acc: 0.9983\n",
      "Epoch 6/10\n",
      "9277/9277 [==============================] - 6s 641us/step - loss: 0.0071 - acc: 0.9982\n",
      "Epoch 7/10\n",
      "9277/9277 [==============================] - 6s 661us/step - loss: 0.0087 - acc: 0.9970\n",
      "Epoch 8/10\n",
      "9277/9277 [==============================] - 6s 627us/step - loss: 0.0110 - acc: 0.9970\n",
      "Epoch 9/10\n",
      "9277/9277 [==============================] - 6s 649us/step - loss: 0.0045 - acc: 0.9987\n",
      "Epoch 10/10\n",
      "9277/9277 [==============================] - 6s 625us/step - loss: 0.0014 - acc: 0.9998\n"
     ]
    }
   ],
   "source": [
    "epochs=10\n",
    "hist = model.fit(X_train,y_train,epochs=epochs,batch_size=256)"
   ]
  },
  {
   "cell_type": "code",
   "execution_count": 18,
   "metadata": {},
   "outputs": [],
   "source": [
    "import matplotlib.pyplot as plt\n",
    "% matplotlib inline"
   ]
  },
  {
   "cell_type": "code",
   "execution_count": 19,
   "metadata": {},
   "outputs": [
    {
     "data": {
      "text/plain": [
       "[<matplotlib.lines.Line2D at 0x269f4a17400>]"
      ]
     },
     "execution_count": 19,
     "metadata": {},
     "output_type": "execute_result"
    },
    {
     "data": {
      "image/png": "[encoded data removed]",
      "text/plain": [
       "<matplotlib.figure.Figure at 0x269f4a174a8>"
      ]
     },
     "metadata": {},
     "output_type": "display_data"
    }
   ],
   "source": [
    "loss = hist.history[\"loss\"]\n",
    "acc = hist.history[\"acc\"]\n",
    "\n",
    "plt.plot(loss,'r-')\n",
    "plt.plot(acc,'b-')"
   ]
  },
  {
   "cell_type": "code",
   "execution_count": 20,
   "metadata": {},
   "outputs": [
    {
     "name": "stdout",
     "output_type": "stream",
     "text": [
      "1387/1387 [==============================] - 0s 171us/step\n"
     ]
    },
    {
     "data": {
      "text/plain": [
       "[2.026091897066497, 0.7029560203163763]"
      ]
     },
     "execution_count": 20,
     "metadata": {},
     "output_type": "execute_result"
    }
   ],
   "source": [
    "model.evaluate(X_test,y_test)"
   ]
  },
  {
   "cell_type": "code",
   "execution_count": null,
   "metadata": {},
   "outputs": [],
   "source": []
  }
 ],
 "metadata": {
  "anaconda-cloud": {},
  "kernelspec": {
   "display_name": "Python [Root]",
   "language": "python",
   "name": "Python [Root]"
  },
  "language_info": {
   "codemirror_mode": {
    "name": "ipython",
    "version": 3
   },
   "file_extension": ".py",
   "mimetype": "text/x-python",
   "name": "python",
   "nbconvert_exporter": "python",
   "pygments_lexer": "ipython3",
   "version": "3.5.4"
  }
 },
 "nbformat": 4,
 "nbformat_minor": 1
}
